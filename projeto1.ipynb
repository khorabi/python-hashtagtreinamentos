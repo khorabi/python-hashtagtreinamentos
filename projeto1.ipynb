{
  "nbformat": 4,
  "nbformat_minor": 0,
  "metadata": {
    "colab": {
      "name": "projeto1.ipynb",
      "provenance": [],
      "collapsed_sections": [],
      "mount_file_id": "1unAUne0TSbWrJuLWDS1dYMJBs6nUBp9W",
      "authorship_tag": "ABX9TyPEi3Fxce+aVDHXEc+oxf7s",
      "include_colab_link": true
    },
    "kernelspec": {
      "name": "python3",
      "display_name": "Python 3"
    }
  },
  "cells": [
    {
      "cell_type": "markdown",
      "metadata": {
        "id": "view-in-github",
        "colab_type": "text"
      },
      "source": [
        "<a href=\"https://colab.research.google.com/github/khorabi/python-hashtagtreinamentos/blob/main/projeto1.ipynb\" target=\"_parent\"><img src=\"https://colab.research.google.com/assets/colab-badge.svg\" alt=\"Open In Colab\"/></a>"
      ]
    },
    {
      "cell_type": "markdown",
      "metadata": {
        "id": "OV9mIG19KrwW"
      },
      "source": [
        "# Desafio:\r\n",
        "\r\n",
        "Você faz parte da equipe de Analytics de uma grande marca de vestuário com mais de 25 lojas espalhadas em Shoppings de todo o Brasil.\r\n",
        "\r\n",
        "Toda semana você precisa enviar para a diretoria um ranking atualizado com as 25 lojas contendo 3 informações:\r\n",
        "- Faturamento de cada Loja\r\n",
        "- Quantidade de Produtos Vendidos de cada Loja\r\n",
        "- Ticket Médio dos Produto de cada Loja\r\n",
        "\r\n",
        "Além disso, cada loja tem 1 gerente que precisa receber o resumo das informações da loja dele. Por isso, cada gerente deve receber no e-mail:\r\n",
        "- Faturamento da sua loja\r\n",
        "- Quantidade de Produtos Vendidos da sua loja\r\n",
        "- Ticket Médio dos Produto da sua Loja\r\n",
        "\r\n",
        "Esse relatório é sempre enviado como um resumo de todos os dados disponíveis no ano.\r\n"
      ]
    },
    {
      "cell_type": "markdown",
      "metadata": {
        "id": "Jul32E0pKLup"
      },
      "source": [
        "# Solução do Desafio:\r\n",
        "\r\n",
        "Para resolver o desafio vamos seguir a seguinte lógica:\r\n",
        "\r\n",
        "- Passo 1 - Importar a base de Dados\r\n",
        "- Passo 2 - Visualizar a Base de Dados para ver se precisamos fazer algum tratamento\r\n",
        "- Passo 3 - Calcular os indicadores de todas as lojas:\r\n",
        "  - Faturamento por Loja\r\n",
        "  - Quantidade de Produtos Vendidos por Loja\r\n",
        "  - Ticket Médio dos Produto por Loja\r\n",
        "- Passo 4 - Calcular os indicadores de cada loja\r\n",
        "- Passo 5 - Enviar e-mail para cada loja\r\n",
        "- Passo 6 - Enviar e-mail para a diretoria"
      ]
    },
    {
      "cell_type": "markdown",
      "metadata": {
        "id": "yMBkEA4Oj4Ho"
      },
      "source": [
        "passo 1/2"
      ]
    },
    {
      "cell_type": "code",
      "metadata": {
        "id": "DGCB9xoc_-Gn",
        "colab": {
          "base_uri": "https://localhost:8080/",
          "height": 204
        },
        "outputId": "cfc1e09c-f643-4e01-d029-83f2f7acaa2d"
      },
      "source": [
        "import pandas as pd\r\n",
        "\r\n",
        "tabela_vendas = pd.read_excel(\"/content/drive/MyDrive/Colab Notebooks/python-hashtagtreinamentos/Vendas.xlsx\")\r\n",
        "#display(tabela_vendas)\r\n",
        "tabela_vendas.head()"
      ],
      "execution_count": 12,
      "outputs": [
        {
          "output_type": "execute_result",
          "data": {
            "text/html": [
              "<div>\n",
              "<style scoped>\n",
              "    .dataframe tbody tr th:only-of-type {\n",
              "        vertical-align: middle;\n",
              "    }\n",
              "\n",
              "    .dataframe tbody tr th {\n",
              "        vertical-align: top;\n",
              "    }\n",
              "\n",
              "    .dataframe thead th {\n",
              "        text-align: right;\n",
              "    }\n",
              "</style>\n",
              "<table border=\"1\" class=\"dataframe\">\n",
              "  <thead>\n",
              "    <tr style=\"text-align: right;\">\n",
              "      <th></th>\n",
              "      <th>Código Venda</th>\n",
              "      <th>Data</th>\n",
              "      <th>ID Loja</th>\n",
              "      <th>Produto</th>\n",
              "      <th>Quantidade</th>\n",
              "      <th>Valor Unitário</th>\n",
              "      <th>Valor Final</th>\n",
              "    </tr>\n",
              "  </thead>\n",
              "  <tbody>\n",
              "    <tr>\n",
              "      <th>0</th>\n",
              "      <td>1</td>\n",
              "      <td>2019-01-01</td>\n",
              "      <td>Iguatemi Esplanada</td>\n",
              "      <td>Sapato Estampa</td>\n",
              "      <td>1</td>\n",
              "      <td>358</td>\n",
              "      <td>358</td>\n",
              "    </tr>\n",
              "    <tr>\n",
              "      <th>1</th>\n",
              "      <td>1</td>\n",
              "      <td>2019-01-01</td>\n",
              "      <td>Iguatemi Esplanada</td>\n",
              "      <td>Camiseta</td>\n",
              "      <td>2</td>\n",
              "      <td>180</td>\n",
              "      <td>360</td>\n",
              "    </tr>\n",
              "    <tr>\n",
              "      <th>2</th>\n",
              "      <td>1</td>\n",
              "      <td>2019-01-01</td>\n",
              "      <td>Iguatemi Esplanada</td>\n",
              "      <td>Sapato Xadrez</td>\n",
              "      <td>1</td>\n",
              "      <td>368</td>\n",
              "      <td>368</td>\n",
              "    </tr>\n",
              "    <tr>\n",
              "      <th>3</th>\n",
              "      <td>2</td>\n",
              "      <td>2019-01-02</td>\n",
              "      <td>Norte Shopping</td>\n",
              "      <td>Relógio</td>\n",
              "      <td>3</td>\n",
              "      <td>200</td>\n",
              "      <td>600</td>\n",
              "    </tr>\n",
              "    <tr>\n",
              "      <th>4</th>\n",
              "      <td>2</td>\n",
              "      <td>2019-01-02</td>\n",
              "      <td>Norte Shopping</td>\n",
              "      <td>Chinelo Liso</td>\n",
              "      <td>1</td>\n",
              "      <td>71</td>\n",
              "      <td>71</td>\n",
              "    </tr>\n",
              "  </tbody>\n",
              "</table>\n",
              "</div>"
            ],
            "text/plain": [
              "   Código Venda       Data  ... Valor Unitário Valor Final\n",
              "0             1 2019-01-01  ...            358         358\n",
              "1             1 2019-01-01  ...            180         360\n",
              "2             1 2019-01-01  ...            368         368\n",
              "3             2 2019-01-02  ...            200         600\n",
              "4             2 2019-01-02  ...             71          71\n",
              "\n",
              "[5 rows x 7 columns]"
            ]
          },
          "metadata": {
            "tags": []
          },
          "execution_count": 12
        }
      ]
    },
    {
      "cell_type": "markdown",
      "metadata": {
        "id": "26xGoHrakAG6"
      },
      "source": [
        "passo 3"
      ]
    },
    {
      "cell_type": "code",
      "metadata": {
        "colab": {
          "base_uri": "https://localhost:8080/",
          "height": 855
        },
        "id": "mIfOUxb7j9Ez",
        "outputId": "2cc87c1b-baaf-4d73-9f1a-a7082f9600f8"
      },
      "source": [
        "tabela_faturamento = tabela_vendas[['ID Loja', 'Valor Final']].groupby('ID Loja').sum()\r\n",
        "tabela_faturamento = tabela_faturamento.sort_values(by=\"Valor Final\", ascending=False)\r\n",
        "display(tabela_faturamento)"
      ],
      "execution_count": 10,
      "outputs": [
        {
          "output_type": "display_data",
          "data": {
            "text/html": [
              "<div>\n",
              "<style scoped>\n",
              "    .dataframe tbody tr th:only-of-type {\n",
              "        vertical-align: middle;\n",
              "    }\n",
              "\n",
              "    .dataframe tbody tr th {\n",
              "        vertical-align: top;\n",
              "    }\n",
              "\n",
              "    .dataframe thead th {\n",
              "        text-align: right;\n",
              "    }\n",
              "</style>\n",
              "<table border=\"1\" class=\"dataframe\">\n",
              "  <thead>\n",
              "    <tr style=\"text-align: right;\">\n",
              "      <th></th>\n",
              "      <th>Valor Final</th>\n",
              "    </tr>\n",
              "    <tr>\n",
              "      <th>ID Loja</th>\n",
              "      <th></th>\n",
              "    </tr>\n",
              "  </thead>\n",
              "  <tbody>\n",
              "    <tr>\n",
              "      <th>Iguatemi Campinas</th>\n",
              "      <td>1762419</td>\n",
              "    </tr>\n",
              "    <tr>\n",
              "      <th>Shopping Vila Velha</th>\n",
              "      <td>1731167</td>\n",
              "    </tr>\n",
              "    <tr>\n",
              "      <th>Bourbon Shopping SP</th>\n",
              "      <td>1726110</td>\n",
              "    </tr>\n",
              "    <tr>\n",
              "      <th>Rio Mar Recife</th>\n",
              "      <td>1722766</td>\n",
              "    </tr>\n",
              "    <tr>\n",
              "      <th>Shopping SP Market</th>\n",
              "      <td>1721763</td>\n",
              "    </tr>\n",
              "    <tr>\n",
              "      <th>Palladium Shopping Curitiba</th>\n",
              "      <td>1721120</td>\n",
              "    </tr>\n",
              "    <tr>\n",
              "      <th>Norte Shopping</th>\n",
              "      <td>1711968</td>\n",
              "    </tr>\n",
              "    <tr>\n",
              "      <th>Ribeirão Shopping</th>\n",
              "      <td>1707122</td>\n",
              "    </tr>\n",
              "    <tr>\n",
              "      <th>Iguatemi Esplanada</th>\n",
              "      <td>1699681</td>\n",
              "    </tr>\n",
              "    <tr>\n",
              "      <th>Rio Mar Shopping Fortaleza</th>\n",
              "      <td>1698430</td>\n",
              "    </tr>\n",
              "    <tr>\n",
              "      <th>Shopping Center Leste Aricanduva</th>\n",
              "      <td>1682870</td>\n",
              "    </tr>\n",
              "    <tr>\n",
              "      <th>Novo Shopping Ribeirão Preto</th>\n",
              "      <td>1678225</td>\n",
              "    </tr>\n",
              "    <tr>\n",
              "      <th>Shopping Iguatemi Fortaleza</th>\n",
              "      <td>1674824</td>\n",
              "    </tr>\n",
              "    <tr>\n",
              "      <th>Center Shopping Uberlândia</th>\n",
              "      <td>1668921</td>\n",
              "    </tr>\n",
              "    <tr>\n",
              "      <th>Shopping União de Osasco</th>\n",
              "      <td>1663770</td>\n",
              "    </tr>\n",
              "    <tr>\n",
              "      <th>Shopping Barra</th>\n",
              "      <td>1653103</td>\n",
              "    </tr>\n",
              "    <tr>\n",
              "      <th>Passei das Águas Shopping</th>\n",
              "      <td>1649014</td>\n",
              "    </tr>\n",
              "    <tr>\n",
              "      <th>Shopping Eldorado</th>\n",
              "      <td>1648111</td>\n",
              "    </tr>\n",
              "    <tr>\n",
              "      <th>Salvador Shopping</th>\n",
              "      <td>1646739</td>\n",
              "    </tr>\n",
              "    <tr>\n",
              "      <th>Shopping Center Interlagos</th>\n",
              "      <td>1640486</td>\n",
              "    </tr>\n",
              "    <tr>\n",
              "      <th>Shopping Ibirapuera</th>\n",
              "      <td>1635060</td>\n",
              "    </tr>\n",
              "    <tr>\n",
              "      <th>Parque Dom Pedro Shopping</th>\n",
              "      <td>1631630</td>\n",
              "    </tr>\n",
              "    <tr>\n",
              "      <th>Shopping Recife</th>\n",
              "      <td>1624879</td>\n",
              "    </tr>\n",
              "    <tr>\n",
              "      <th>Shopping Midway Mall</th>\n",
              "      <td>1590441</td>\n",
              "    </tr>\n",
              "    <tr>\n",
              "      <th>Shopping Morumbi</th>\n",
              "      <td>1586444</td>\n",
              "    </tr>\n",
              "  </tbody>\n",
              "</table>\n",
              "</div>"
            ],
            "text/plain": [
              "                                  Valor Final\n",
              "ID Loja                                      \n",
              "Iguatemi Campinas                     1762419\n",
              "Shopping Vila Velha                   1731167\n",
              "Bourbon Shopping SP                   1726110\n",
              "Rio Mar Recife                        1722766\n",
              "Shopping SP Market                    1721763\n",
              "Palladium Shopping Curitiba           1721120\n",
              "Norte Shopping                        1711968\n",
              "Ribeirão Shopping                     1707122\n",
              "Iguatemi Esplanada                    1699681\n",
              "Rio Mar Shopping Fortaleza            1698430\n",
              "Shopping Center Leste Aricanduva      1682870\n",
              "Novo Shopping Ribeirão Preto          1678225\n",
              "Shopping Iguatemi Fortaleza           1674824\n",
              "Center Shopping Uberlândia            1668921\n",
              "Shopping União de Osasco              1663770\n",
              "Shopping Barra                        1653103\n",
              "Passei das Águas Shopping             1649014\n",
              "Shopping Eldorado                     1648111\n",
              "Salvador Shopping                     1646739\n",
              "Shopping Center Interlagos            1640486\n",
              "Shopping Ibirapuera                   1635060\n",
              "Parque Dom Pedro Shopping             1631630\n",
              "Shopping Recife                       1624879\n",
              "Shopping Midway Mall                  1590441\n",
              "Shopping Morumbi                      1586444"
            ]
          },
          "metadata": {
            "tags": []
          }
        }
      ]
    },
    {
      "cell_type": "code",
      "metadata": {
        "colab": {
          "base_uri": "https://localhost:8080/",
          "height": 855
        },
        "id": "A8lVhiNyo637",
        "outputId": "30894747-76fa-4659-be28-323d2f8f478b"
      },
      "source": [
        "tabela_quantidade = tabela_vendas[['ID Loja', 'Quantidade']].groupby('ID Loja').sum()\r\n",
        "#tabela_quantidade = tabela_quantidade.sort_values(by=\"Quantidade\", ascending=False)\r\n",
        "display(tabela_quantidade)"
      ],
      "execution_count": 15,
      "outputs": [
        {
          "output_type": "display_data",
          "data": {
            "text/html": [
              "<div>\n",
              "<style scoped>\n",
              "    .dataframe tbody tr th:only-of-type {\n",
              "        vertical-align: middle;\n",
              "    }\n",
              "\n",
              "    .dataframe tbody tr th {\n",
              "        vertical-align: top;\n",
              "    }\n",
              "\n",
              "    .dataframe thead th {\n",
              "        text-align: right;\n",
              "    }\n",
              "</style>\n",
              "<table border=\"1\" class=\"dataframe\">\n",
              "  <thead>\n",
              "    <tr style=\"text-align: right;\">\n",
              "      <th></th>\n",
              "      <th>Quantidade</th>\n",
              "    </tr>\n",
              "    <tr>\n",
              "      <th>ID Loja</th>\n",
              "      <th></th>\n",
              "    </tr>\n",
              "  </thead>\n",
              "  <tbody>\n",
              "    <tr>\n",
              "      <th>Bourbon Shopping SP</th>\n",
              "      <td>8863</td>\n",
              "    </tr>\n",
              "    <tr>\n",
              "      <th>Center Shopping Uberlândia</th>\n",
              "      <td>8627</td>\n",
              "    </tr>\n",
              "    <tr>\n",
              "      <th>Iguatemi Campinas</th>\n",
              "      <td>8935</td>\n",
              "    </tr>\n",
              "    <tr>\n",
              "      <th>Iguatemi Esplanada</th>\n",
              "      <td>8580</td>\n",
              "    </tr>\n",
              "    <tr>\n",
              "      <th>Norte Shopping</th>\n",
              "      <td>9014</td>\n",
              "    </tr>\n",
              "    <tr>\n",
              "      <th>Novo Shopping Ribeirão Preto</th>\n",
              "      <td>8751</td>\n",
              "    </tr>\n",
              "    <tr>\n",
              "      <th>Palladium Shopping Curitiba</th>\n",
              "      <td>9091</td>\n",
              "    </tr>\n",
              "    <tr>\n",
              "      <th>Parque Dom Pedro Shopping</th>\n",
              "      <td>8388</td>\n",
              "    </tr>\n",
              "    <tr>\n",
              "      <th>Passei das Águas Shopping</th>\n",
              "      <td>8618</td>\n",
              "    </tr>\n",
              "    <tr>\n",
              "      <th>Ribeirão Shopping</th>\n",
              "      <td>8825</td>\n",
              "    </tr>\n",
              "    <tr>\n",
              "      <th>Rio Mar Recife</th>\n",
              "      <td>8863</td>\n",
              "    </tr>\n",
              "    <tr>\n",
              "      <th>Rio Mar Shopping Fortaleza</th>\n",
              "      <td>8937</td>\n",
              "    </tr>\n",
              "    <tr>\n",
              "      <th>Salvador Shopping</th>\n",
              "      <td>8698</td>\n",
              "    </tr>\n",
              "    <tr>\n",
              "      <th>Shopping Barra</th>\n",
              "      <td>8638</td>\n",
              "    </tr>\n",
              "    <tr>\n",
              "      <th>Shopping Center Interlagos</th>\n",
              "      <td>8675</td>\n",
              "    </tr>\n",
              "    <tr>\n",
              "      <th>Shopping Center Leste Aricanduva</th>\n",
              "      <td>8938</td>\n",
              "    </tr>\n",
              "    <tr>\n",
              "      <th>Shopping Eldorado</th>\n",
              "      <td>8719</td>\n",
              "    </tr>\n",
              "    <tr>\n",
              "      <th>Shopping Ibirapuera</th>\n",
              "      <td>8723</td>\n",
              "    </tr>\n",
              "    <tr>\n",
              "      <th>Shopping Iguatemi Fortaleza</th>\n",
              "      <td>8629</td>\n",
              "    </tr>\n",
              "    <tr>\n",
              "      <th>Shopping Midway Mall</th>\n",
              "      <td>8206</td>\n",
              "    </tr>\n",
              "    <tr>\n",
              "      <th>Shopping Morumbi</th>\n",
              "      <td>8508</td>\n",
              "    </tr>\n",
              "    <tr>\n",
              "      <th>Shopping Recife</th>\n",
              "      <td>8581</td>\n",
              "    </tr>\n",
              "    <tr>\n",
              "      <th>Shopping SP Market</th>\n",
              "      <td>8927</td>\n",
              "    </tr>\n",
              "    <tr>\n",
              "      <th>Shopping União de Osasco</th>\n",
              "      <td>8730</td>\n",
              "    </tr>\n",
              "    <tr>\n",
              "      <th>Shopping Vila Velha</th>\n",
              "      <td>9224</td>\n",
              "    </tr>\n",
              "  </tbody>\n",
              "</table>\n",
              "</div>"
            ],
            "text/plain": [
              "                                  Quantidade\n",
              "ID Loja                                     \n",
              "Bourbon Shopping SP                     8863\n",
              "Center Shopping Uberlândia              8627\n",
              "Iguatemi Campinas                       8935\n",
              "Iguatemi Esplanada                      8580\n",
              "Norte Shopping                          9014\n",
              "Novo Shopping Ribeirão Preto            8751\n",
              "Palladium Shopping Curitiba             9091\n",
              "Parque Dom Pedro Shopping               8388\n",
              "Passei das Águas Shopping               8618\n",
              "Ribeirão Shopping                       8825\n",
              "Rio Mar Recife                          8863\n",
              "Rio Mar Shopping Fortaleza              8937\n",
              "Salvador Shopping                       8698\n",
              "Shopping Barra                          8638\n",
              "Shopping Center Interlagos              8675\n",
              "Shopping Center Leste Aricanduva        8938\n",
              "Shopping Eldorado                       8719\n",
              "Shopping Ibirapuera                     8723\n",
              "Shopping Iguatemi Fortaleza             8629\n",
              "Shopping Midway Mall                    8206\n",
              "Shopping Morumbi                        8508\n",
              "Shopping Recife                         8581\n",
              "Shopping SP Market                      8927\n",
              "Shopping União de Osasco                8730\n",
              "Shopping Vila Velha                     9224"
            ]
          },
          "metadata": {
            "tags": []
          }
        }
      ]
    },
    {
      "cell_type": "code",
      "metadata": {
        "colab": {
          "base_uri": "https://localhost:8080/",
          "height": 235
        },
        "id": "5jnhiMUWpo7q",
        "outputId": "644caae1-5d1d-4baa-953f-526a436034ee"
      },
      "source": [
        "ticket_medio = (tabela_faturamento['Valor Final'] / tabela_quantidade['Quantidade']).to_frame()\r\n",
        "ticket_medio = ticket_medio.rename(columns={0: \"Ticket Medio\"})\r\n",
        "ticket_medio.head()"
      ],
      "execution_count": 22,
      "outputs": [
        {
          "output_type": "execute_result",
          "data": {
            "text/html": [
              "<div>\n",
              "<style scoped>\n",
              "    .dataframe tbody tr th:only-of-type {\n",
              "        vertical-align: middle;\n",
              "    }\n",
              "\n",
              "    .dataframe tbody tr th {\n",
              "        vertical-align: top;\n",
              "    }\n",
              "\n",
              "    .dataframe thead th {\n",
              "        text-align: right;\n",
              "    }\n",
              "</style>\n",
              "<table border=\"1\" class=\"dataframe\">\n",
              "  <thead>\n",
              "    <tr style=\"text-align: right;\">\n",
              "      <th></th>\n",
              "      <th>Ticket Medio</th>\n",
              "    </tr>\n",
              "    <tr>\n",
              "      <th>ID Loja</th>\n",
              "      <th></th>\n",
              "    </tr>\n",
              "  </thead>\n",
              "  <tbody>\n",
              "    <tr>\n",
              "      <th>Bourbon Shopping SP</th>\n",
              "      <td>194.754598</td>\n",
              "    </tr>\n",
              "    <tr>\n",
              "      <th>Center Shopping Uberlândia</th>\n",
              "      <td>193.453228</td>\n",
              "    </tr>\n",
              "    <tr>\n",
              "      <th>Iguatemi Campinas</th>\n",
              "      <td>197.248909</td>\n",
              "    </tr>\n",
              "    <tr>\n",
              "      <th>Iguatemi Esplanada</th>\n",
              "      <td>198.098019</td>\n",
              "    </tr>\n",
              "    <tr>\n",
              "      <th>Norte Shopping</th>\n",
              "      <td>189.923231</td>\n",
              "    </tr>\n",
              "  </tbody>\n",
              "</table>\n",
              "</div>"
            ],
            "text/plain": [
              "                            Ticket Medio\n",
              "ID Loja                                 \n",
              "Bourbon Shopping SP           194.754598\n",
              "Center Shopping Uberlândia    193.453228\n",
              "Iguatemi Campinas             197.248909\n",
              "Iguatemi Esplanada            198.098019\n",
              "Norte Shopping                189.923231"
            ]
          },
          "metadata": {
            "tags": []
          },
          "execution_count": 22
        }
      ]
    },
    {
      "cell_type": "markdown",
      "metadata": {
        "id": "6IJwM6UUrWhp"
      },
      "source": [
        "função email"
      ]
    },
    {
      "cell_type": "code",
      "metadata": {
        "id": "FunSJWC0rSYy"
      },
      "source": [
        "def enviar_email(nome_da_loja, tabela):\r\n",
        "  import smtplib\r\n",
        "  import email.message\r\n",
        "\r\n",
        "  server = smtplib.SMTP('smtp.gmail.com:587')  \r\n",
        "  corpo_email = f\"\"\"\r\n",
        "  <p>Prezados,</p>\r\n",
        "  <p>Segue relatório de vendas</p>\r\n",
        "  {tabela.to_html()}\r\n",
        "  \"\"\" #editar\r\n",
        "    \r\n",
        "  msg = email.message.Message()\r\n",
        "  msg['Subject'] = f\"Relatório de vendas - {nome_da_loja}\" #editar\r\n",
        "    \r\n",
        "  # Fazer antes (apenas na 1ª vez): Ativar Aplicativos não Seguros.\r\n",
        "    # Gerenciar Conta Google -> Segurança -> Aplicativos não Seguros -> Habilitar\r\n",
        "  # Caso mesmo assim dê o erro: smtplib.SMTPAuthenticationError: (534,\r\n",
        "  # Você faz o login no seu e-mail e depois entra em: https://accounts.google.com/DisplayUnlockCaptcha\r\n",
        "  msg['From'] = 'exemploemail@gmail.com' #editar\r\n",
        "  msg['To'] = 'exemploemail@gmail.com' #editar\r\n",
        "  password = \"exemplosenha\" #editar\r\n",
        "  msg.add_header('Content-Type', 'text/html') \r\n",
        "  msg.set_payload(corpo_email )\r\n",
        "    \r\n",
        "  s = smtplib.SMTP('smtp.gmail.com: 587')\r\n",
        "  s.starttls()\r\n",
        "  # Login Credentials for sending the mail\r\n",
        "  s.login(msg['From'], password)\r\n",
        "  s.sendmail(msg['From'], [msg['To']], msg.as_string().encode('utf-8'))\r\n",
        "  print('Email enviado')"
      ],
      "execution_count": 27,
      "outputs": []
    },
    {
      "cell_type": "markdown",
      "metadata": {
        "id": "LuTYEfwCw8xZ"
      },
      "source": [
        "envio de email"
      ]
    },
    {
      "cell_type": "code",
      "metadata": {
        "colab": {
          "base_uri": "https://localhost:8080/"
        },
        "id": "KRSNhKwjvwF7",
        "outputId": "d19301f7-0fb6-4c87-8d3f-ff6cdc2e9a1c"
      },
      "source": [
        "tabela_completa = tabela_faturamento.join(tabela_quantidade).join(ticket_medio)\r\n",
        "enviar_email(\"Diretoria\", tabela_completa)"
      ],
      "execution_count": 30,
      "outputs": [
        {
          "output_type": "stream",
          "text": [
            "Email enviado\n"
          ],
          "name": "stdout"
        }
      ]
    },
    {
      "cell_type": "markdown",
      "metadata": {
        "id": "n6OMiJNwxtNC"
      },
      "source": [
        "email para cada loja"
      ]
    },
    {
      "cell_type": "code",
      "metadata": {
        "colab": {
          "base_uri": "https://localhost:8080/"
        },
        "id": "wua9yGadxun-",
        "outputId": "40767331-322e-4b34-f2f9-a6ce3ddde1ed"
      },
      "source": [
        "lojas = tabela_vendas['ID Loja'].unique()\r\n",
        "\r\n",
        "for loja in lojas:\r\n",
        "  tabela_loja = tabela_vendas.loc[tabela_vendas['ID Loja'] == loja, ['ID Loja', 'Quantidade', 'Valor Final']]\r\n",
        "  resumo_loja = tabela_loja.groupby('ID Loja').sum()\r\n",
        "  resumo_loja['Ticket Médio'] = resumo_loja['Valor Final'] / resumo_loja['Quantidade']\r\n",
        "  enviar_email(loja, resumo_loja)"
      ],
      "execution_count": 31,
      "outputs": [
        {
          "output_type": "stream",
          "text": [
            "Email enviado\n",
            "Email enviado\n",
            "Email enviado\n",
            "Email enviado\n",
            "Email enviado\n",
            "Email enviado\n",
            "Email enviado\n",
            "Email enviado\n",
            "Email enviado\n",
            "Email enviado\n",
            "Email enviado\n",
            "Email enviado\n",
            "Email enviado\n",
            "Email enviado\n",
            "Email enviado\n",
            "Email enviado\n",
            "Email enviado\n",
            "Email enviado\n",
            "Email enviado\n",
            "Email enviado\n",
            "Email enviado\n",
            "Email enviado\n",
            "Email enviado\n",
            "Email enviado\n",
            "Email enviado\n"
          ],
          "name": "stdout"
        }
      ]
    }
  ]
}